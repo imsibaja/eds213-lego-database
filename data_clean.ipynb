{
 "cells": [
  {
   "cell_type": "code",
   "execution_count": 2,
   "id": "97d5956a",
   "metadata": {},
   "outputs": [],
   "source": [
    "import pandas as pd\n",
    "import numpy as np"
   ]
  },
  {
   "cell_type": "code",
   "execution_count": 3,
   "id": "56d6fa55",
   "metadata": {},
   "outputs": [],
   "source": [
    "# Download latest version\n",
    "themes = pd.read_csv(\"/Users/ims/MEDS/eds213-data/eds213-lego-database/lego-project/data/themes.csv\")\n",
    "sets = pd.read_csv(\"/Users/ims/MEDS/eds213-data/eds213-lego-database/lego-project/data/sets.csv\")\n",
    "inventories = pd.read_csv(\"/Users/ims/MEDS/eds213-data/eds213-lego-database/lego-project/data/inventories.csv\")\n",
    "inventory_parts = pd.read_csv(\"/Users/ims/MEDS/eds213-data/eds213-lego-database/lego-project/data/inventory_parts.csv\")\n",
    "colors = pd.read_csv(\"/Users/ims/MEDS/eds213-data/eds213-lego-database/lego-project/data/colors.csv\")"
   ]
  },
  {
   "cell_type": "markdown",
   "id": "fbc014ce",
   "metadata": {},
   "source": [
    "Theme 18 is Star Wars"
   ]
  },
  {
   "cell_type": "code",
   "execution_count": 18,
   "id": "bbbba8ca",
   "metadata": {},
   "outputs": [],
   "source": [
    "star_wars_themes = themes[themes[\"name\"]==\"Star Wars\"]"
   ]
  },
  {
   "cell_type": "code",
   "execution_count": 23,
   "id": "a658e7a0",
   "metadata": {},
   "outputs": [
    {
     "data": {
      "application/vnd.microsoft.datawrangler.viewer.v0+json": {
       "columns": [
        {
         "name": "index",
         "rawType": "int64",
         "type": "integer"
        },
        {
         "name": "set_num",
         "rawType": "object",
         "type": "string"
        },
        {
         "name": "name",
         "rawType": "object",
         "type": "string"
        },
        {
         "name": "year",
         "rawType": "int64",
         "type": "integer"
        },
        {
         "name": "theme_id",
         "rawType": "int64",
         "type": "integer"
        },
        {
         "name": "num_parts",
         "rawType": "int64",
         "type": "integer"
        }
       ],
       "conversionMethod": "pd.DataFrame",
       "ref": "01dc609f-54e4-45ee-ab0f-9ee335f11b8d",
       "rows": [
        [
         "0",
         "00-1",
         "Weetabix Castle",
         "1970",
         "414",
         "471"
        ],
        [
         "1",
         "0011-2",
         "Town Mini-Figures",
         "1978",
         "84",
         "12"
        ],
        [
         "2",
         "0011-3",
         "Castle 2 for 1 Bonus Offer",
         "1987",
         "199",
         "2"
        ],
        [
         "3",
         "0012-1",
         "Space Mini-Figures",
         "1979",
         "143",
         "12"
        ],
        [
         "4",
         "0013-1",
         "Space Mini-Figures",
         "1979",
         "143",
         "12"
        ],
        [
         "5",
         "0014-1",
         "Space Mini-Figures",
         "1979",
         "143",
         "12"
        ],
        [
         "6",
         "0015-1",
         "Space Mini-Figures",
         "1979",
         "143",
         "18"
        ],
        [
         "7",
         "0016-1",
         "Castle Mini Figures",
         "1978",
         "186",
         "15"
        ],
        [
         "8",
         "00-2",
         "Weetabix Promotional House 1",
         "1976",
         "413",
         "147"
        ],
        [
         "9",
         "00-3",
         "Weetabix Promotional House 2",
         "1976",
         "413",
         "149"
        ],
        [
         "10",
         "00-4",
         "Weetabix Promotional Windmill",
         "1976",
         "413",
         "126"
        ],
        [
         "11",
         "005-1",
         "Basic Building Set in Cardboard",
         "1965",
         "366",
         "35"
        ],
        [
         "12",
         "00-6",
         "Special Offer",
         "1985",
         "67",
         "3"
        ],
        [
         "13",
         "00-7",
         "Weetabix Promotional Lego Village",
         "1976",
         "413",
         "3"
        ],
        [
         "14",
         "010-1",
         "Basic Building Set in Cardboard",
         "1965",
         "366",
         "57"
        ],
        [
         "15",
         "010-3",
         "Basic Building Set",
         "1968",
         "366",
         "77"
        ],
        [
         "16",
         "011-1",
         "Basic Building Set",
         "1968",
         "366",
         "145"
        ],
        [
         "17",
         "022-1",
         "Basic Building Set",
         "1968",
         "366",
         "110"
        ],
        [
         "18",
         "03093-1",
         "The Race to Build It Board Game",
         "1999",
         "502",
         "70"
        ],
        [
         "19",
         "033-2",
         "Basic Building Set",
         "1968",
         "366",
         "177"
        ],
        [
         "20",
         "044-1",
         "Basic Building Set",
         "1968",
         "366",
         "225"
        ],
        [
         "21",
         "055-2",
         "Basic Building Set",
         "1968",
         "366",
         "256"
        ],
        [
         "22",
         "066-1",
         "Basic Building Set",
         "1968",
         "366",
         "407"
        ],
        [
         "23",
         "080-1",
         "Basic Building Set with Train",
         "1967",
         "366",
         "710"
        ],
        [
         "24",
         "088-1",
         "Super Set",
         "1969",
         "469",
         "615"
        ],
        [
         "25",
         "10000-1",
         "Guarded Inn",
         "2001",
         "186",
         "256"
        ],
        [
         "26",
         "10001-1",
         "Metroliner",
         "2001",
         "233",
         "785"
        ],
        [
         "27",
         "10002-1",
         "Railroad Club Car",
         "2001",
         "233",
         "272"
        ],
        [
         "28",
         "10003-1",
         "1 x 2 Sand Red Bricks",
         "2001",
         "254",
         "100"
        ],
        [
         "29",
         "10004-1",
         "2 x 2 Sand Red Bricks",
         "2001",
         "254",
         "100"
        ],
        [
         "30",
         "10005-1",
         "2 x 4 Sand Red Bricks",
         "2001",
         "254",
         "50"
        ],
        [
         "31",
         "10006-1",
         "1 x 6 Sand Red Bricks",
         "2001",
         "254",
         "50"
        ],
        [
         "32",
         "10007-1",
         "2 x 4 Sand Red Ridge Roof Tiles Steep Slope",
         "2001",
         "254",
         "25"
        ],
        [
         "33",
         "10008-1",
         "2 x 4 Roof Tile Sand Red",
         "2001",
         "254",
         "50"
        ],
        [
         "34",
         "10009-1",
         "Assorted Blue Bricks",
         "2001",
         "254",
         "62"
        ],
        [
         "35",
         "100-1",
         "4.5V Motor with Wheels (Small Version)",
         "1966",
         "243",
         "16"
        ],
        [
         "36",
         "10010-1",
         "Assorted Yellow Bricks",
         "2003",
         "254",
         "63"
        ],
        [
         "37",
         "10011-1",
         "Assorted Blue Plates",
         "2001",
         "254",
         "42"
        ],
        [
         "38",
         "10012-1",
         "Assorted Yellow Plates",
         "2001",
         "254",
         "42"
        ],
        [
         "39",
         "10013-1",
         "Open Freight Wagon",
         "2001",
         "238",
         "121"
        ],
        [
         "40",
         "10014-1",
         "Caboose",
         "2001",
         "238",
         "170"
        ],
        [
         "41",
         "10015-1",
         "Passenger Wagon",
         "2001",
         "238",
         "194"
        ],
        [
         "42",
         "10016-1",
         "Tanker",
         "2001",
         "238",
         "128"
        ],
        [
         "43",
         "10017-1",
         "Hopper Wagon",
         "2001",
         "238",
         "228"
        ],
        [
         "44",
         "10018-1",
         "Darth Maul",
         "2001",
         "158",
         "1868"
        ],
        [
         "45",
         "10019-1",
         "Rebel Blockade Runner - UCS",
         "2001",
         "174",
         "1747"
        ],
        [
         "46",
         "100-2",
         "4.5V Motor with Wheels (Large Version)",
         "1966",
         "243",
         "27"
        ],
        [
         "47",
         "10020-1",
         "Santa Fe Super Chief, NOT the Limited Edition",
         "2002",
         "236",
         "427"
        ],
        [
         "48",
         "10020-2",
         "Santa Fe Super Chief, Limited Edition",
         "2002",
         "236",
         "433"
        ],
        [
         "49",
         "10021-1",
         "U.S.S. Constellation",
         "2003",
         "404",
         "974"
        ]
       ],
       "shape": {
        "columns": 5,
        "rows": 11673
       }
      },
      "text/html": [
       "<div>\n",
       "<style scoped>\n",
       "    .dataframe tbody tr th:only-of-type {\n",
       "        vertical-align: middle;\n",
       "    }\n",
       "\n",
       "    .dataframe tbody tr th {\n",
       "        vertical-align: top;\n",
       "    }\n",
       "\n",
       "    .dataframe thead th {\n",
       "        text-align: right;\n",
       "    }\n",
       "</style>\n",
       "<table border=\"1\" class=\"dataframe\">\n",
       "  <thead>\n",
       "    <tr style=\"text-align: right;\">\n",
       "      <th></th>\n",
       "      <th>set_num</th>\n",
       "      <th>name</th>\n",
       "      <th>year</th>\n",
       "      <th>theme_id</th>\n",
       "      <th>num_parts</th>\n",
       "    </tr>\n",
       "  </thead>\n",
       "  <tbody>\n",
       "    <tr>\n",
       "      <th>0</th>\n",
       "      <td>00-1</td>\n",
       "      <td>Weetabix Castle</td>\n",
       "      <td>1970</td>\n",
       "      <td>414</td>\n",
       "      <td>471</td>\n",
       "    </tr>\n",
       "    <tr>\n",
       "      <th>1</th>\n",
       "      <td>0011-2</td>\n",
       "      <td>Town Mini-Figures</td>\n",
       "      <td>1978</td>\n",
       "      <td>84</td>\n",
       "      <td>12</td>\n",
       "    </tr>\n",
       "    <tr>\n",
       "      <th>2</th>\n",
       "      <td>0011-3</td>\n",
       "      <td>Castle 2 for 1 Bonus Offer</td>\n",
       "      <td>1987</td>\n",
       "      <td>199</td>\n",
       "      <td>2</td>\n",
       "    </tr>\n",
       "    <tr>\n",
       "      <th>3</th>\n",
       "      <td>0012-1</td>\n",
       "      <td>Space Mini-Figures</td>\n",
       "      <td>1979</td>\n",
       "      <td>143</td>\n",
       "      <td>12</td>\n",
       "    </tr>\n",
       "    <tr>\n",
       "      <th>4</th>\n",
       "      <td>0013-1</td>\n",
       "      <td>Space Mini-Figures</td>\n",
       "      <td>1979</td>\n",
       "      <td>143</td>\n",
       "      <td>12</td>\n",
       "    </tr>\n",
       "    <tr>\n",
       "      <th>...</th>\n",
       "      <td>...</td>\n",
       "      <td>...</td>\n",
       "      <td>...</td>\n",
       "      <td>...</td>\n",
       "      <td>...</td>\n",
       "    </tr>\n",
       "    <tr>\n",
       "      <th>11668</th>\n",
       "      <td>Wauwatosa-1</td>\n",
       "      <td>LEGO Store Grand Opening Exclusive Set, Mayfai...</td>\n",
       "      <td>2012</td>\n",
       "      <td>408</td>\n",
       "      <td>15</td>\n",
       "    </tr>\n",
       "    <tr>\n",
       "      <th>11669</th>\n",
       "      <td>WHITEHOUSE-1</td>\n",
       "      <td>Micro White House</td>\n",
       "      <td>2015</td>\n",
       "      <td>598</td>\n",
       "      <td>59</td>\n",
       "    </tr>\n",
       "    <tr>\n",
       "      <th>11670</th>\n",
       "      <td>Wiesbaden-1</td>\n",
       "      <td>LEGO Store Grand Opening Exclusive Set, Wiesba...</td>\n",
       "      <td>2010</td>\n",
       "      <td>408</td>\n",
       "      <td>146</td>\n",
       "    </tr>\n",
       "    <tr>\n",
       "      <th>11671</th>\n",
       "      <td>WishingWell-1</td>\n",
       "      <td>Wishing Well [Toys R Us Promo]</td>\n",
       "      <td>2013</td>\n",
       "      <td>494</td>\n",
       "      <td>28</td>\n",
       "    </tr>\n",
       "    <tr>\n",
       "      <th>11672</th>\n",
       "      <td>wwgp1-1</td>\n",
       "      <td>Wild West Limited Edition Gift Pack</td>\n",
       "      <td>1996</td>\n",
       "      <td>476</td>\n",
       "      <td>3</td>\n",
       "    </tr>\n",
       "  </tbody>\n",
       "</table>\n",
       "<p>11673 rows × 5 columns</p>\n",
       "</div>"
      ],
      "text/plain": [
       "             set_num                                               name  year  \\\n",
       "0               00-1                                    Weetabix Castle  1970   \n",
       "1             0011-2                                  Town Mini-Figures  1978   \n",
       "2             0011-3                         Castle 2 for 1 Bonus Offer  1987   \n",
       "3             0012-1                                 Space Mini-Figures  1979   \n",
       "4             0013-1                                 Space Mini-Figures  1979   \n",
       "...              ...                                                ...   ...   \n",
       "11668    Wauwatosa-1  LEGO Store Grand Opening Exclusive Set, Mayfai...  2012   \n",
       "11669   WHITEHOUSE-1                                  Micro White House  2015   \n",
       "11670    Wiesbaden-1  LEGO Store Grand Opening Exclusive Set, Wiesba...  2010   \n",
       "11671  WishingWell-1                     Wishing Well [Toys R Us Promo]  2013   \n",
       "11672        wwgp1-1                Wild West Limited Edition Gift Pack  1996   \n",
       "\n",
       "       theme_id  num_parts  \n",
       "0           414        471  \n",
       "1            84         12  \n",
       "2           199          2  \n",
       "3           143         12  \n",
       "4           143         12  \n",
       "...         ...        ...  \n",
       "11668       408         15  \n",
       "11669       598         59  \n",
       "11670       408        146  \n",
       "11671       494         28  \n",
       "11672       476          3  \n",
       "\n",
       "[11673 rows x 5 columns]"
      ]
     },
     "execution_count": 23,
     "metadata": {},
     "output_type": "execute_result"
    }
   ],
   "source": [
    "sets"
   ]
  },
  {
   "cell_type": "code",
   "execution_count": null,
   "id": "77fab80e",
   "metadata": {},
   "outputs": [],
   "source": []
  }
 ],
 "metadata": {
  "kernelspec": {
   "display_name": "Ian",
   "language": "python",
   "name": "python3"
  },
  "language_info": {
   "codemirror_mode": {
    "name": "ipython",
    "version": 3
   },
   "file_extension": ".py",
   "mimetype": "text/x-python",
   "name": "python",
   "nbconvert_exporter": "python",
   "pygments_lexer": "ipython3",
   "version": "3.10.16"
  }
 },
 "nbformat": 4,
 "nbformat_minor": 5
}
