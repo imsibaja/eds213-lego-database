{
 "cells": [
  {
   "cell_type": "code",
   "execution_count": 2,
   "id": "97d5956a",
   "metadata": {},
   "outputs": [],
   "source": [
    "import pandas as pd\n",
    "import numpy as np\n",
    "import kagglehub"
   ]
  },
  {
   "cell_type": "code",
   "execution_count": 8,
   "id": "56d6fa55",
   "metadata": {},
   "outputs": [],
   "source": [
    "# Download latest version\n",
    "themes = pd.read_csv(\"/Users/ims/MEDS/eds213-data/eds213-lego-database/lego-project/data/themes.csv\")\n",
    "sets = pd.read_csv(\"/Users/ims/MEDS/eds213-data/eds213-lego-database/lego-project/data/sets.csv\")\n",
    "inventories = pd.read_csv(\"/Users/ims/MEDS/eds213-data/eds213-lego-database/lego-project/data/inventories.csv\")\n",
    "inventory_parts = pd.read_csv(\"/Users/ims/MEDS/eds213-data/eds213-lego-database/lego-project/data/inventory_parts.csv\")\n",
    "colors = pd.read_csv(\"/Users/ims/MEDS/eds213-data/eds213-lego-database/lego-project/data/colors.csv\")"
   ]
  },
  {
   "cell_type": "code",
   "execution_count": null,
   "id": "bbbba8ca",
   "metadata": {},
   "outputs": [],
   "source": []
  }
 ],
 "metadata": {
  "kernelspec": {
   "display_name": "Ian",
   "language": "python",
   "name": "python3"
  },
  "language_info": {
   "codemirror_mode": {
    "name": "ipython",
    "version": 3
   },
   "file_extension": ".py",
   "mimetype": "text/x-python",
   "name": "python",
   "nbconvert_exporter": "python",
   "pygments_lexer": "ipython3",
   "version": "3.10.16"
  }
 },
 "nbformat": 4,
 "nbformat_minor": 5
}
